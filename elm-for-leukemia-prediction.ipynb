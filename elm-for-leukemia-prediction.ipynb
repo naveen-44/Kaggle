{
 "cells": [
  {
   "cell_type": "code",
   "execution_count": 1,
   "metadata": {
    "execution": {
     "iopub.execute_input": "2021-04-30T09:59:31.106378Z",
     "iopub.status.busy": "2021-04-30T09:59:31.105409Z",
     "iopub.status.idle": "2021-04-30T09:59:31.108576Z",
     "shell.execute_reply": "2021-04-30T09:59:31.108005Z"
    },
    "papermill": {
     "duration": 0.026777,
     "end_time": "2021-04-30T09:59:31.108698",
     "exception": false,
     "start_time": "2021-04-30T09:59:31.081921",
     "status": "completed"
    },
    "tags": []
   },
   "outputs": [],
   "source": [
    "### Naveen Rajan P\n",
    "### MTech Data Science, Amity University\n",
    "### BTech + MTech Dual degree Mechanical, IIITDMK\n",
    "### Extreme Learning Machine code for brain tumor detection"
   ]
  },
  {
   "cell_type": "code",
   "execution_count": 2,
   "metadata": {
    "execution": {
     "iopub.execute_input": "2021-04-30T09:59:31.146187Z",
     "iopub.status.busy": "2021-04-30T09:59:31.145094Z",
     "iopub.status.idle": "2021-04-30T09:59:31.148345Z",
     "shell.execute_reply": "2021-04-30T09:59:31.147711Z"
    },
    "papermill": {
     "duration": 0.023405,
     "end_time": "2021-04-30T09:59:31.148475",
     "exception": false,
     "start_time": "2021-04-30T09:59:31.125070",
     "status": "completed"
    },
    "tags": []
   },
   "outputs": [],
   "source": [
    "# ls ../input/leukemia-classification/C-NMC_Leukemia/training_data/fold_1/all"
   ]
  },
  {
   "cell_type": "code",
   "execution_count": 3,
   "metadata": {
    "_cell_guid": "b1076dfc-b9ad-4769-8c92-a6c4dae69d19",
    "_uuid": "8f2839f25d086af736a60e9eeb907d3b93b6e0e5",
    "execution": {
     "iopub.execute_input": "2021-04-30T09:59:31.185054Z",
     "iopub.status.busy": "2021-04-30T09:59:31.184012Z",
     "iopub.status.idle": "2021-04-30T09:59:32.294257Z",
     "shell.execute_reply": "2021-04-30T09:59:32.294877Z"
    },
    "papermill": {
     "duration": 1.130536,
     "end_time": "2021-04-30T09:59:32.295058",
     "exception": false,
     "start_time": "2021-04-30T09:59:31.164522",
     "status": "completed"
    },
    "tags": []
   },
   "outputs": [],
   "source": [
    "# Packages used\n",
    "\n",
    "import os\n",
    "import glob\n",
    "import shutil\n",
    "import random\n",
    "import pandas as pd\n",
    "from PIL import Image\n",
    "import numpy as np\n",
    "import seaborn as sns\n",
    "import matplotlib.pyplot as plt"
   ]
  },
  {
   "cell_type": "code",
   "execution_count": 4,
   "metadata": {
    "execution": {
     "iopub.execute_input": "2021-04-30T09:59:32.334150Z",
     "iopub.status.busy": "2021-04-30T09:59:32.333343Z",
     "iopub.status.idle": "2021-04-30T09:59:32.335906Z",
     "shell.execute_reply": "2021-04-30T09:59:32.336392Z"
    },
    "papermill": {
     "duration": 0.025146,
     "end_time": "2021-04-30T09:59:32.336567",
     "exception": false,
     "start_time": "2021-04-30T09:59:32.311421",
     "status": "completed"
    },
    "tags": []
   },
   "outputs": [],
   "source": [
    "# Parameters to modify\n",
    "\n",
    "ims1 = 200\n",
    "tts = 0.1\n",
    "hu = 750\n",
    "rel = 1"
   ]
  },
  {
   "cell_type": "code",
   "execution_count": 5,
   "metadata": {
    "_cell_guid": "79c7e3d0-c299-4dcb-8224-4455121ee9b0",
    "_uuid": "d629ff2d2480ee46fbb7e2d37f6b5fab8052498a",
    "execution": {
     "iopub.execute_input": "2021-04-30T09:59:32.387014Z",
     "iopub.status.busy": "2021-04-30T09:59:32.386221Z",
     "iopub.status.idle": "2021-04-30T10:01:59.431583Z",
     "shell.execute_reply": "2021-04-30T10:01:59.432133Z"
    },
    "papermill": {
     "duration": 147.079128,
     "end_time": "2021-04-30T10:01:59.432346",
     "exception": false,
     "start_time": "2021-04-30T09:59:32.353218",
     "status": "completed"
    },
    "tags": []
   },
   "outputs": [
    {
     "name": "stdout",
     "output_type": "stream",
     "text": [
      "n1 done, size  =  2397\n",
      "n2 done, size  =  2418\n",
      "n3 done, size  =  2457\n",
      "y1 done, size  =  1130\n",
      "y2 done, size  =  1163\n",
      "y3 done, size  =  1096\n"
     ]
    }
   ],
   "source": [
    "# Importing images\n",
    "\n",
    "def importing_data(path):\n",
    "    sample = []\n",
    "    for filename in glob.glob(path):\n",
    "        img = Image.open(filename,'r')\n",
    "        img = img.resize((ims1,ims1))\n",
    "        img = np.array(img)\n",
    "        IMG = img.ravel()\n",
    "        sample.append(IMG)\n",
    "    return sample\n",
    "\n",
    "# all\n",
    "path11 = '//kaggle/input/leukemia-classification/C-NMC_Leukemia/training_data/fold_0/all/*.bmp'\n",
    "path21 = '//kaggle/input/leukemia-classification/C-NMC_Leukemia/training_data/fold_1/all/*.bmp'\n",
    "path31 = '//kaggle/input/leukemia-classification/C-NMC_Leukemia/training_data/fold_2/all/*.bmp'\n",
    "\n",
    "# hem\n",
    "path12 = '//kaggle/input/leukemia-classification/C-NMC_Leukemia/training_data/fold_0/hem/*.bmp'\n",
    "path22 = '//kaggle/input/leukemia-classification/C-NMC_Leukemia/training_data/fold_1/hem/*.bmp'\n",
    "path32 = '//kaggle/input/leukemia-classification/C-NMC_Leukemia/training_data/fold_2/hem/*.bmp'\n",
    "\n",
    "n1 = importing_data(path11)\n",
    "print(\"n1 done, size  = \", len(n1))\n",
    "n2 = importing_data(path21)\n",
    "print(\"n2 done, size  = \", len(n2))\n",
    "n3 = importing_data(path31)\n",
    "print(\"n3 done, size  = \", len(n3))\n",
    "\n",
    "y1 = importing_data(path12)\n",
    "print(\"y1 done, size  = \", len(y1))\n",
    "y2 = importing_data(path22)\n",
    "print(\"y2 done, size  = \", len(y2))\n",
    "y3 = importing_data(path32)\n",
    "print(\"y3 done, size  = \", len(y3))\n",
    "\n",
    "train_n = []\n",
    "train_y = []\n",
    "\n",
    "for i in n1:\n",
    "    train_n.append(i)\n",
    "for i in n2:\n",
    "    train_n.append(i)\n",
    "for i in n3:\n",
    "    train_n.append(i)\n",
    "\n",
    "for i in y1:\n",
    "    train_y.append(i)\n",
    "for i in y2:\n",
    "    train_y.append(i)\n",
    "for i in y3:\n",
    "    train_y.append(i)\n",
    "\n",
    "# print(\"importing training no\")\n",
    "# train_n = importing_data(path1)\n",
    "# print(\"importing training yes\")\n",
    "# train_y = importing_data(path2)\n"
   ]
  },
  {
   "cell_type": "code",
   "execution_count": 6,
   "metadata": {
    "execution": {
     "iopub.execute_input": "2021-04-30T10:01:59.476532Z",
     "iopub.status.busy": "2021-04-30T10:01:59.475677Z",
     "iopub.status.idle": "2021-04-30T10:01:59.481971Z",
     "shell.execute_reply": "2021-04-30T10:01:59.481281Z"
    },
    "papermill": {
     "duration": 0.030532,
     "end_time": "2021-04-30T10:01:59.482103",
     "exception": false,
     "start_time": "2021-04-30T10:01:59.451571",
     "status": "completed"
    },
    "tags": []
   },
   "outputs": [],
   "source": [
    "# # Importing images\n",
    "# def importing_data(path):\n",
    "#     sample = []\n",
    "#     for filename in glob.glob(path):\n",
    "#         img = Image.open(filename,'r')\n",
    "#         img = img.resize((ims1,ims1))\n",
    "#         img = np.array(img)\n",
    "#         IMG = img.ravel()\n",
    "#         sample.append(IMG)\n",
    "#     return sample\n",
    "\n",
    "# path1 = '//kaggle/input/brain-tumor-detection/no/*.jpg'\n",
    "# path2 = '//kaggle/input/brain-tumor-detection/yes/*.jpg'\n",
    "# path3 = '//kaggle/input/brain-tumor-detection/pred/*.jpg'\n",
    "\n",
    "# print(\"importing training no\")\n",
    "# train_n = importing_data(path1)\n",
    "# print(\"importing training yes\")\n",
    "# train_y = importing_data(path2)\n"
   ]
  },
  {
   "cell_type": "code",
   "execution_count": 7,
   "metadata": {
    "execution": {
     "iopub.execute_input": "2021-04-30T10:01:59.530144Z",
     "iopub.status.busy": "2021-04-30T10:01:59.528936Z",
     "iopub.status.idle": "2021-04-30T10:01:59.532669Z",
     "shell.execute_reply": "2021-04-30T10:01:59.531904Z"
    },
    "papermill": {
     "duration": 0.030407,
     "end_time": "2021-04-30T10:01:59.532805",
     "exception": false,
     "start_time": "2021-04-30T10:01:59.502398",
     "status": "completed"
    },
    "tags": []
   },
   "outputs": [],
   "source": [
    "# # Importing more images into the dataset\n",
    "# path11 = '//kaggle/input/brain-tumor-classification-mri/Testing/glioma_tumor/*.jpg'\n",
    "# path21 = '//kaggle/input/brain-tumor-classification-mri/Testing/meningioma_tumor/*.jpg'\n",
    "# path31 = '//kaggle/input/brain-tumor-classification-mri/Testing/pituitary_tumor/*.jpg'\n",
    "# path41 = '//kaggle/input/brain-tumor-classification-mri/Testing/no_tumor/*.jpg'\n",
    "\n",
    "# # print(\"importing training no\")\n",
    "# # x = (importing_data(path41))\n",
    "# # for i in x:\n",
    "# #     train_n.append(i)\n",
    "# print(\"importing training yes\")\n",
    "# x = (importing_data(path11))\n",
    "# for i in x:\n",
    "#     train_y.append(i)\n",
    "# print(\"importing training yes\")\n",
    "# x = (importing_data(path21))\n",
    "# for i in x:\n",
    "#     train_y.append(i)\n",
    "# print(\"importing training yes\")\n",
    "# x = (importing_data(path31))\n",
    "# for i in x:\n",
    "#     train_y.append(i)"
   ]
  },
  {
   "cell_type": "code",
   "execution_count": 8,
   "metadata": {
    "execution": {
     "iopub.execute_input": "2021-04-30T10:01:59.584270Z",
     "iopub.status.busy": "2021-04-30T10:01:59.583093Z",
     "iopub.status.idle": "2021-04-30T10:01:59.587086Z",
     "shell.execute_reply": "2021-04-30T10:01:59.586346Z"
    },
    "papermill": {
     "duration": 0.030895,
     "end_time": "2021-04-30T10:01:59.587209",
     "exception": false,
     "start_time": "2021-04-30T10:01:59.556314",
     "status": "completed"
    },
    "tags": []
   },
   "outputs": [],
   "source": [
    "# # Importing more images into the dataset\n",
    "# path11 = '//kaggle/input/brain-tumor-classification-mri/Training/glioma_tumor/*.jpg'\n",
    "# path21 = '//kaggle/input/brain-tumor-classification-mri/Training/meningioma_tumor/*.jpg'\n",
    "# path31 = '//kaggle/input/brain-tumor-classification-mri/Training/pituitary_tumor/*.jpg'\n",
    "# path41 = '//kaggle/input/brain-tumor-classification-mri/Training/no_tumor/*.jpg'\n",
    "\n",
    "# # print(\"importing training no\")\n",
    "# # x = (importing_data(path41))\n",
    "# # for i in x:\n",
    "# #     train_n.append(i)\n",
    "# print(\"importing training yes\")\n",
    "# x = (importing_data(path11))\n",
    "# for i in x:\n",
    "#     train_y.append(i)\n",
    "# print(\"importing training yes\")\n",
    "# x = (importing_data(path21))\n",
    "# for i in x:\n",
    "#     train_y.append(i)\n",
    "# print(\"importing training yes\")\n",
    "# x = (importing_data(path31))\n",
    "# for i in x:\n",
    "#     train_y.append(i)"
   ]
  },
  {
   "cell_type": "code",
   "execution_count": 9,
   "metadata": {
    "execution": {
     "iopub.execute_input": "2021-04-30T10:01:59.647772Z",
     "iopub.status.busy": "2021-04-30T10:01:59.647050Z",
     "iopub.status.idle": "2021-04-30T10:01:59.651233Z",
     "shell.execute_reply": "2021-04-30T10:01:59.650499Z"
    },
    "papermill": {
     "duration": 0.03866,
     "end_time": "2021-04-30T10:01:59.651370",
     "exception": false,
     "start_time": "2021-04-30T10:01:59.612710",
     "status": "completed"
    },
    "tags": []
   },
   "outputs": [],
   "source": [
    "df_train_n = pd.DataFrame({'image':train_n, 'label': 'Healthy'})\n",
    "df_train_y = pd.DataFrame({'image':train_y, 'label': 'Affected'})"
   ]
  },
  {
   "cell_type": "code",
   "execution_count": 10,
   "metadata": {
    "execution": {
     "iopub.execute_input": "2021-04-30T10:01:59.699872Z",
     "iopub.status.busy": "2021-04-30T10:01:59.698948Z",
     "iopub.status.idle": "2021-04-30T10:01:59.703178Z",
     "shell.execute_reply": "2021-04-30T10:01:59.702088Z"
    },
    "papermill": {
     "duration": 0.032179,
     "end_time": "2021-04-30T10:01:59.703356",
     "exception": false,
     "start_time": "2021-04-30T10:01:59.671177",
     "status": "completed"
    },
    "tags": []
   },
   "outputs": [],
   "source": [
    "# Combining the data\n",
    "train_data = df_train_n.append(df_train_y,ignore_index=True)"
   ]
  },
  {
   "cell_type": "code",
   "execution_count": 11,
   "metadata": {
    "execution": {
     "iopub.execute_input": "2021-04-30T10:01:59.766983Z",
     "iopub.status.busy": "2021-04-30T10:01:59.761900Z",
     "iopub.status.idle": "2021-04-30T10:01:59.924214Z",
     "shell.execute_reply": "2021-04-30T10:01:59.923450Z"
    },
    "papermill": {
     "duration": 0.199551,
     "end_time": "2021-04-30T10:01:59.924337",
     "exception": false,
     "start_time": "2021-04-30T10:01:59.724786",
     "status": "completed"
    },
    "tags": []
   },
   "outputs": [
    {
     "name": "stdout",
     "output_type": "stream",
     "text": [
      "0\n"
     ]
    }
   ],
   "source": [
    "# Ignoring images that are oddly shaped to avoid outliers\n",
    "c = 1\n",
    "igs = []\n",
    "for i in range(len(train_data)):\n",
    "    if(len(train_data.image[i])!=(3*ims1*ims1)):\n",
    "#         print(c,i)\n",
    "        c = c + 1\n",
    "        igs.append(i)\n",
    "# print(igs)\n",
    "print(len(igs))"
   ]
  },
  {
   "cell_type": "code",
   "execution_count": 12,
   "metadata": {
    "execution": {
     "iopub.execute_input": "2021-04-30T10:01:59.974280Z",
     "iopub.status.busy": "2021-04-30T10:01:59.973581Z",
     "iopub.status.idle": "2021-04-30T10:01:59.977755Z",
     "shell.execute_reply": "2021-04-30T10:01:59.977058Z"
    },
    "papermill": {
     "duration": 0.033208,
     "end_time": "2021-04-30T10:01:59.977955",
     "exception": false,
     "start_time": "2021-04-30T10:01:59.944747",
     "status": "completed"
    },
    "tags": []
   },
   "outputs": [],
   "source": [
    "train_data=train_data.drop(igs,axis=0)"
   ]
  },
  {
   "cell_type": "code",
   "execution_count": 13,
   "metadata": {
    "execution": {
     "iopub.execute_input": "2021-04-30T10:02:00.030060Z",
     "iopub.status.busy": "2021-04-30T10:02:00.029093Z",
     "iopub.status.idle": "2021-04-30T10:02:00.033230Z",
     "shell.execute_reply": "2021-04-30T10:02:00.032523Z"
    },
    "papermill": {
     "duration": 0.035142,
     "end_time": "2021-04-30T10:02:00.033355",
     "exception": false,
     "start_time": "2021-04-30T10:01:59.998213",
     "status": "completed"
    },
    "tags": []
   },
   "outputs": [],
   "source": [
    "x_train = []\n",
    "for tdim in train_data.image:\n",
    "    x_train.append(tdim)\n",
    "y_train = np.array(train_data.label)"
   ]
  },
  {
   "cell_type": "code",
   "execution_count": 14,
   "metadata": {
    "execution": {
     "iopub.execute_input": "2021-04-30T10:02:00.086654Z",
     "iopub.status.busy": "2021-04-30T10:02:00.085730Z",
     "iopub.status.idle": "2021-04-30T10:02:00.090706Z",
     "shell.execute_reply": "2021-04-30T10:02:00.090110Z"
    },
    "papermill": {
     "duration": 0.035634,
     "end_time": "2021-04-30T10:02:00.090824",
     "exception": false,
     "start_time": "2021-04-30T10:02:00.055190",
     "status": "completed"
    },
    "tags": []
   },
   "outputs": [
    {
     "name": "stdout",
     "output_type": "stream",
     "text": [
      "10661\n"
     ]
    }
   ],
   "source": [
    "y_traind = []\n",
    "for i in range(len(y_train)):\n",
    "    if(y_train[i]==\"Healthy\"):\n",
    "        y_traind.append(0)\n",
    "    else:\n",
    "        y_traind.append(1)\n",
    "print(len(y_traind))"
   ]
  },
  {
   "cell_type": "code",
   "execution_count": 15,
   "metadata": {
    "execution": {
     "iopub.execute_input": "2021-04-30T10:02:00.142197Z",
     "iopub.status.busy": "2021-04-30T10:02:00.141418Z",
     "iopub.status.idle": "2021-04-30T10:02:00.730733Z",
     "shell.execute_reply": "2021-04-30T10:02:00.729947Z"
    },
    "papermill": {
     "duration": 0.618305,
     "end_time": "2021-04-30T10:02:00.730881",
     "exception": false,
     "start_time": "2021-04-30T10:02:00.112576",
     "status": "completed"
    },
    "tags": []
   },
   "outputs": [],
   "source": [
    "x_traind = np.array(x_train)"
   ]
  },
  {
   "cell_type": "code",
   "execution_count": 16,
   "metadata": {
    "execution": {
     "iopub.execute_input": "2021-04-30T10:02:00.794058Z",
     "iopub.status.busy": "2021-04-30T10:02:00.792844Z",
     "iopub.status.idle": "2021-04-30T10:02:00.799053Z",
     "shell.execute_reply": "2021-04-30T10:02:00.797906Z"
    },
    "papermill": {
     "duration": 0.046979,
     "end_time": "2021-04-30T10:02:00.799285",
     "exception": false,
     "start_time": "2021-04-30T10:02:00.752306",
     "status": "completed"
    },
    "tags": []
   },
   "outputs": [],
   "source": [
    "# One hot encoding\n",
    "CLASSES = 2\n",
    "y_train = np.zeros([len(y_traind), CLASSES])\n",
    "for i in range(len(y_traind)):\n",
    "        y_train[i][y_traind[i]] = 1"
   ]
  },
  {
   "cell_type": "code",
   "execution_count": 17,
   "metadata": {
    "execution": {
     "iopub.execute_input": "2021-04-30T10:02:00.855993Z",
     "iopub.status.busy": "2021-04-30T10:02:00.855195Z",
     "iopub.status.idle": "2021-04-30T10:02:01.624837Z",
     "shell.execute_reply": "2021-04-30T10:02:01.624002Z"
    },
    "papermill": {
     "duration": 0.801119,
     "end_time": "2021-04-30T10:02:01.625000",
     "exception": false,
     "start_time": "2021-04-30T10:02:00.823881",
     "status": "completed"
    },
    "tags": []
   },
   "outputs": [
    {
     "name": "stdout",
     "output_type": "stream",
     "text": [
      "Train size: 9594, Test size: 1067\n"
     ]
    }
   ],
   "source": [
    "# Test train splitting\n",
    "from sklearn.model_selection import train_test_split\n",
    "\n",
    "x_train, x_test, y_train, y_test = train_test_split(x_traind, y_train, test_size=tts)\n",
    "print('Train size: {train}, Test size: {test}'.format(train=len(x_train), test=len(x_test)))"
   ]
  },
  {
   "cell_type": "code",
   "execution_count": 18,
   "metadata": {
    "execution": {
     "iopub.execute_input": "2021-04-30T10:02:01.676937Z",
     "iopub.status.busy": "2021-04-30T10:02:01.676184Z",
     "iopub.status.idle": "2021-04-30T10:02:02.345737Z",
     "shell.execute_reply": "2021-04-30T10:02:02.345015Z"
    },
    "papermill": {
     "duration": 0.696564,
     "end_time": "2021-04-30T10:02:02.345860",
     "exception": false,
     "start_time": "2021-04-30T10:02:01.649296",
     "status": "completed"
    },
    "tags": []
   },
   "outputs": [],
   "source": [
    "# Changing to Matrix format\n",
    "x_train=np.matrix(x_train)\n",
    "x_test=np.matrix(x_test)\n",
    "y_train=np.matrix(y_train)\n",
    "y_test=np.matrix(y_test)"
   ]
  },
  {
   "cell_type": "code",
   "execution_count": 19,
   "metadata": {
    "execution": {
     "iopub.execute_input": "2021-04-30T10:02:02.400718Z",
     "iopub.status.busy": "2021-04-30T10:02:02.399920Z",
     "iopub.status.idle": "2021-04-30T10:02:06.949329Z",
     "shell.execute_reply": "2021-04-30T10:02:06.948714Z"
    },
    "papermill": {
     "duration": 4.580224,
     "end_time": "2021-04-30T10:02:06.949447",
     "exception": false,
     "start_time": "2021-04-30T10:02:02.369223",
     "status": "completed"
    },
    "tags": []
   },
   "outputs": [
    {
     "name": "stdout",
     "output_type": "stream",
     "text": [
      "Input Weight shape: (120000, 750)\n"
     ]
    }
   ],
   "source": [
    "# Starting to build ELM model\n",
    "INPUT_LENGTH = x_train.shape[1]\n",
    "HIDDEN_UNITS = hu #hidden units\n",
    "\n",
    "Win = np.random.normal(size=[INPUT_LENGTH, HIDDEN_UNITS])\n",
    "Win = np.matrix(Win)\n",
    "print('Input Weight shape: {shape}'.format(shape=Win.shape))"
   ]
  },
  {
   "cell_type": "code",
   "execution_count": 20,
   "metadata": {
    "execution": {
     "iopub.execute_input": "2021-04-30T10:02:07.002093Z",
     "iopub.status.busy": "2021-04-30T10:02:07.000956Z",
     "iopub.status.idle": "2021-04-30T10:02:07.004536Z",
     "shell.execute_reply": "2021-04-30T10:02:07.003774Z"
    },
    "papermill": {
     "duration": 0.033365,
     "end_time": "2021-04-30T10:02:07.004666",
     "exception": false,
     "start_time": "2021-04-30T10:02:06.971301",
     "status": "completed"
    },
    "tags": []
   },
   "outputs": [],
   "source": [
    "def input_to_hidden(x):\n",
    "    print(\"shape of x:\",x.shape)\n",
    "    print(\"weights shape:\",Win.shape)\n",
    "    a = np.dot(x, Win)\n",
    "    a = np.maximum(a, rel, a) # ReLU activation\n",
    "    return a"
   ]
  },
  {
   "cell_type": "code",
   "execution_count": 21,
   "metadata": {
    "execution": {
     "iopub.execute_input": "2021-04-30T10:02:07.059703Z",
     "iopub.status.busy": "2021-04-30T10:02:07.057986Z",
     "iopub.status.idle": "2021-04-30T10:02:29.820062Z",
     "shell.execute_reply": "2021-04-30T10:02:29.821015Z"
    },
    "papermill": {
     "duration": 22.79231,
     "end_time": "2021-04-30T10:02:29.821272",
     "exception": false,
     "start_time": "2021-04-30T10:02:07.028962",
     "status": "completed"
    },
    "tags": []
   },
   "outputs": [
    {
     "name": "stdout",
     "output_type": "stream",
     "text": [
      "shape of x: (9594, 120000)\n",
      "weights shape: (120000, 750)\n"
     ]
    }
   ],
   "source": [
    "X = input_to_hidden(x_train)\n",
    "Xt = np.transpose(X)"
   ]
  },
  {
   "cell_type": "code",
   "execution_count": 22,
   "metadata": {
    "execution": {
     "iopub.execute_input": "2021-04-30T10:02:29.903152Z",
     "iopub.status.busy": "2021-04-30T10:02:29.897913Z",
     "iopub.status.idle": "2021-04-30T10:02:30.164467Z",
     "shell.execute_reply": "2021-04-30T10:02:30.163525Z"
    },
    "papermill": {
     "duration": 0.308067,
     "end_time": "2021-04-30T10:02:30.164617",
     "exception": false,
     "start_time": "2021-04-30T10:02:29.856550",
     "status": "completed"
    },
    "tags": []
   },
   "outputs": [
    {
     "name": "stdout",
     "output_type": "stream",
     "text": [
      "Output weights shape: (750, 2)\n"
     ]
    }
   ],
   "source": [
    "# Moore-Penrose pseudo inverse\n",
    "\n",
    "www1 = np.dot(Xt, X)\n",
    "\n",
    "b = np.identity(len(np.array(www1)))\n",
    "b = np.dot(b,3)\n",
    "\n",
    "www1 = www1 + b\n",
    "ww1 = np.linalg.inv(www1)\n",
    "ww2 = np.dot(Xt, y_train)\n",
    "\n",
    "Wout = np.dot(ww1, ww2)\n",
    "print('Output weights shape: {shape}'.format(shape=Wout.shape))"
   ]
  },
  {
   "cell_type": "code",
   "execution_count": 23,
   "metadata": {
    "execution": {
     "iopub.execute_input": "2021-04-30T10:02:30.224423Z",
     "iopub.status.busy": "2021-04-30T10:02:30.223019Z",
     "iopub.status.idle": "2021-04-30T10:02:30.226840Z",
     "shell.execute_reply": "2021-04-30T10:02:30.226208Z"
    },
    "papermill": {
     "duration": 0.035675,
     "end_time": "2021-04-30T10:02:30.226974",
     "exception": false,
     "start_time": "2021-04-30T10:02:30.191299",
     "status": "completed"
    },
    "tags": []
   },
   "outputs": [],
   "source": [
    "def predict(x):\n",
    "    x = input_to_hidden(x)\n",
    "    y = np.dot(x, Wout)\n",
    "    return y"
   ]
  },
  {
   "cell_type": "code",
   "execution_count": 24,
   "metadata": {
    "execution": {
     "iopub.execute_input": "2021-04-30T10:02:30.286390Z",
     "iopub.status.busy": "2021-04-30T10:02:30.285091Z",
     "iopub.status.idle": "2021-04-30T10:02:32.640094Z",
     "shell.execute_reply": "2021-04-30T10:02:32.639280Z"
    },
    "papermill": {
     "duration": 2.385694,
     "end_time": "2021-04-30T10:02:32.640254",
     "exception": false,
     "start_time": "2021-04-30T10:02:30.254560",
     "status": "completed"
    },
    "tags": []
   },
   "outputs": [
    {
     "name": "stdout",
     "output_type": "stream",
     "text": [
      "shape of x: (1067, 120000)\n",
      "weights shape: (120000, 750)\n",
      "Accuracy: 82.849110\n"
     ]
    }
   ],
   "source": [
    "# Prediction\n",
    "y = predict(x_test)\n",
    "correct = 0\n",
    "total = y.shape[0]\n",
    "for i in range(total):\n",
    "    predicted = np.argmax(y[i])\n",
    "    test = np.argmax(y_test[i])\n",
    "    correct = correct + (1 if predicted == test else 0)\n",
    "print('Accuracy: {:f}'.format(correct*100/total))"
   ]
  }
 ],
 "metadata": {
  "kernelspec": {
   "display_name": "Python 3",
   "language": "python",
   "name": "python3"
  },
  "language_info": {
   "codemirror_mode": {
    "name": "ipython",
    "version": 3
   },
   "file_extension": ".py",
   "mimetype": "text/x-python",
   "name": "python",
   "nbconvert_exporter": "python",
   "pygments_lexer": "ipython3",
   "version": "3.7.6"
  },
  "papermill": {
   "duration": 186.946656,
   "end_time": "2021-04-30T10:02:32.773577",
   "environment_variables": {},
   "exception": null,
   "input_path": "__notebook__.ipynb",
   "output_path": "__notebook__.ipynb",
   "parameters": {},
   "start_time": "2021-04-30T09:59:25.826921",
   "version": "2.1.0"
  }
 },
 "nbformat": 4,
 "nbformat_minor": 4
}
